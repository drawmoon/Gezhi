{
 "cells": [
  {
   "cell_type": "markdown",
   "id": "c2351a36-98c9-48f7-81d3-3515ee11cb84",
   "metadata": {},
   "source": [
    "## JSON to Object"
   ]
  },
  {
   "cell_type": "code",
   "execution_count": 1,
   "id": "0a084278-9cdc-4796-9b54-8daa39e49bd8",
   "metadata": {},
   "outputs": [
    {
     "name": "stdout",
     "output_type": "stream",
     "text": [
      "Zxx 16 True\n"
     ]
    }
   ],
   "source": [
    "import json\n",
    "\n",
    "\n",
    "class User:\n",
    "    def __init__(self, **params):\n",
    "        self.name = params.get(\"name\")\n",
    "        self.age = params.get(\"age\")\n",
    "        self.enable = params.get(\"enable\", True)\n",
    "\n",
    "\n",
    "jsonstr = '{\"name\": \"Zxx\", \"age\": 16, \"enable\": true}'\n",
    "\n",
    "user = User(**json.loads(jsonstr))\n",
    "print(user.name, user.age, user.enable)"
   ]
  }
 ],
 "metadata": {
  "kernelspec": {
   "display_name": "Python 3 (ipykernel)",
   "language": "python",
   "name": "python3"
  },
  "language_info": {
   "codemirror_mode": {
    "name": "ipython",
    "version": 3
   },
   "file_extension": ".py",
   "mimetype": "text/x-python",
   "name": "python",
   "nbconvert_exporter": "python",
   "pygments_lexer": "ipython3",
   "version": "3.10.5"
  }
 },
 "nbformat": 4,
 "nbformat_minor": 5
}
